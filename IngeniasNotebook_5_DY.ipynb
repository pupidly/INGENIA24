{
  "nbformat": 4,
  "nbformat_minor": 0,
  "metadata": {
    "kernelspec": {
      "display_name": "Python 3",
      "language": "python",
      "name": "python3"
    },
    "language_info": {
      "codemirror_mode": {
        "name": "ipython",
        "version": 3
      },
      "file_extension": ".py",
      "mimetype": "text/x-python",
      "name": "python",
      "nbconvert_exporter": "python",
      "pygments_lexer": "ipython3",
      "version": "3.7.3"
    },
    "colab": {
      "provenance": [],
      "include_colab_link": true
    }
  },
  "cells": [
    {
      "cell_type": "markdown",
      "metadata": {
        "id": "view-in-github",
        "colab_type": "text"
      },
      "source": [
        "<a href=\"https://colab.research.google.com/github/pupidly/INGENIA24/blob/main/IngeniasNotebook_5_DY.ipynb\" target=\"_parent\"><img src=\"https://colab.research.google.com/assets/colab-badge.svg\" alt=\"Open In Colab\"/></a>"
      ]
    },
    {
      "cell_type": "markdown",
      "metadata": {
        "id": "Gp2WddtV9IwG"
      },
      "source": [
        "# Programa Ingenias+ Data Science"
      ]
    },
    {
      "cell_type": "markdown",
      "metadata": {
        "id": "H4M1yVbf9IwH"
      },
      "source": [
        "Como dijimos en clases anteriores, Python tiene implementadas muchas librerias para poder trabajar con datos. En la clase de hoy trabajaremos con una de ellas: `Numpy`."
      ]
    },
    {
      "cell_type": "markdown",
      "metadata": {
        "id": "GdTT8WeL9IwI"
      },
      "source": [
        "Antes de comenzar, vamos a hablar un poco de esta libreria o modulo.\n",
        "\n",
        "**Numpy** es una librería optimizada para realizar cálculos numéricos con vectores y matrices. A diferencia de otros lenguajes de programación, Python no posee en su estructura central la figura de matrices. Eso quiere decir que para poder trabajar con esta estructura de datos deberiamos trabajar con listas de listas. NumPy introduce el concepto de arrays o matrices."
      ]
    },
    {
      "cell_type": "markdown",
      "metadata": {
        "id": "qWkq3EHK9IwK"
      },
      "source": [
        "Al ser de código abierto, `numpy` posee una documentación muy amplia que es **SIEMPRE RECOMENDABLE** consultar."
      ]
    },
    {
      "cell_type": "markdown",
      "metadata": {
        "id": "nxe3KLUO9IwL"
      },
      "source": [
        "- [Documentacion NumPy](https://devdocs.io/numpy/)"
      ]
    },
    {
      "cell_type": "markdown",
      "metadata": {
        "id": "l1Ay3nSs9IwN"
      },
      "source": [
        "## Clase 4: Introduccion a NumPy"
      ]
    },
    {
      "cell_type": "markdown",
      "metadata": {
        "id": "X03mviQS9IyL"
      },
      "source": [
        "# Ejercicios\n",
        "\n",
        "1. Crear un arreglo de ceros de longitud 12\n",
        "2. Crear un arreglo de longitud 10 con ceros en todas sus posiciones y un 10 en la posición número 5\n",
        "3. Crear un arreglo que tenga los números del 10 al 49\n",
        "4. Crear una arreglo 2d de shape (3, 3) que tenga los números del 0 al 8\n",
        "5. Crear un arreglo de números aleatorios de longitud 100 y obtener su media y varianza\n",
        "6. Calcular la media de un arreglo usando np.sum\n",
        "7. Calcular la varianza de un arreglo usando np.sum y np.mean\n",
        "8. Crear un array de números aleatorios usando np.random.randn.\n"
      ]
    },
    {
      "cell_type": "code",
      "metadata": {
        "id": "G0NMKT609IyM"
      },
      "source": [
        "import numpy as np\n",
        "import pandas as pd"
      ],
      "execution_count": 8,
      "outputs": []
    },
    {
      "cell_type": "code",
      "source": [
        "#Ejercicio 1: Crear un arreglo de ceros de longitud 12\n",
        "\n",
        "arreglo1 = np.zeros(12)\n",
        "arreglo1"
      ],
      "metadata": {
        "colab": {
          "base_uri": "https://localhost:8080/"
        },
        "id": "K6jFBGeq7MMA",
        "outputId": "ea894d37-72db-45c5-f937-e4d97d06136b"
      },
      "execution_count": 22,
      "outputs": [
        {
          "output_type": "execute_result",
          "data": {
            "text/plain": [
              "array([0., 0., 0., 0., 0., 0., 0., 0., 0., 0., 0., 0.])"
            ]
          },
          "metadata": {},
          "execution_count": 22
        }
      ]
    },
    {
      "cell_type": "code",
      "source": [
        "#Ejercicio 2: Crear un arreglo de longitud 10 con ceros en todas sus posiciones y un 10 en la posición número 5\n",
        "\n",
        "arreglo2 = np.zeros(10)\n",
        "arreglo2[4]= 10            #entiendo la 5ta posicion contando desde el 0\n",
        "arreglo2"
      ],
      "metadata": {
        "colab": {
          "base_uri": "https://localhost:8080/"
        },
        "id": "PvbyDO8P8Rte",
        "outputId": "821395cd-2c7f-43c7-b683-ab500c1bc682"
      },
      "execution_count": 23,
      "outputs": [
        {
          "output_type": "execute_result",
          "data": {
            "text/plain": [
              "array([ 0.,  0.,  0.,  0., 10.,  0.,  0.,  0.,  0.,  0.])"
            ]
          },
          "metadata": {},
          "execution_count": 23
        }
      ]
    },
    {
      "cell_type": "code",
      "source": [
        "#Ejercicio 3: Crear un arreglo que tenga los números del 10 al 49\n",
        "\n",
        "arreglo3 = np.arange(10, 50, 1)\n",
        "arreglo3\n"
      ],
      "metadata": {
        "colab": {
          "base_uri": "https://localhost:8080/"
        },
        "id": "k6pZDRMv890N",
        "outputId": "ae6eaeef-087d-45bb-fd59-c620c3629e39"
      },
      "execution_count": 24,
      "outputs": [
        {
          "output_type": "execute_result",
          "data": {
            "text/plain": [
              "array([10, 11, 12, 13, 14, 15, 16, 17, 18, 19, 20, 21, 22, 23, 24, 25, 26,\n",
              "       27, 28, 29, 30, 31, 32, 33, 34, 35, 36, 37, 38, 39, 40, 41, 42, 43,\n",
              "       44, 45, 46, 47, 48, 49])"
            ]
          },
          "metadata": {},
          "execution_count": 24
        }
      ]
    },
    {
      "cell_type": "code",
      "source": [
        "#Ejercicio 4: Crear una arreglo 2d de shape (3, 3) que tenga los números del 0 al 8\n",
        "\n",
        "arreglo4 = np.arange(0, 9, 1)\n",
        "arreglo4.shape = (3, 3)\n",
        "arreglo4\n"
      ],
      "metadata": {
        "colab": {
          "base_uri": "https://localhost:8080/"
        },
        "id": "dYv-1bw39eOW",
        "outputId": "cda3fb7a-0bec-469f-b564-97c16728b1b1"
      },
      "execution_count": 37,
      "outputs": [
        {
          "output_type": "execute_result",
          "data": {
            "text/plain": [
              "array([[0, 1, 2],\n",
              "       [3, 4, 5],\n",
              "       [6, 7, 8]])"
            ]
          },
          "metadata": {},
          "execution_count": 37
        }
      ]
    },
    {
      "cell_type": "code",
      "source": [
        "#Ejercicio 5: Crear un arreglo de números aleatorios de longitud 100 y obtener su media y varianza\n",
        "\n",
        "arreglo5 = np.random.randint(1, 100, 100)\n",
        "print(arreglo5)\n",
        "print(f'El valor medio es:{np.mean(arreglo5)}')\n",
        "print(f'El valor de la varianza es:{np.var(arreglo5)}')"
      ],
      "metadata": {
        "colab": {
          "base_uri": "https://localhost:8080/"
        },
        "id": "qpKOd_JW-kGZ",
        "outputId": "c96a2042-528a-4d14-9c9c-6d5f97e8162e"
      },
      "execution_count": 31,
      "outputs": [
        {
          "output_type": "stream",
          "name": "stdout",
          "text": [
            "[10 77 16 90 65 65  5 89 15 68  7 28 16 10 62 66 78 48 56 74 78 37 83 30\n",
            " 76 14 29 17 65 46 31 73 67 94 29 49  4 14 20 13 72 77 43 46  8 49 34 40\n",
            " 29  1 43 69 65 82 83 43 22 81 44  3 41 18 27 10 21  4 68  9 62 55 13 83\n",
            " 25 63 24 32 32 74 84 90 21 22 82 37 96 65 55 65  4 18 98 83 28  1 16 63\n",
            " 78 88 37 19]\n",
            "El valor medio es:45.59\n",
            "El valor de la varianza es:798.0819\n"
          ]
        }
      ]
    },
    {
      "cell_type": "code",
      "source": [
        "#Ejercicio 6: Calcular la media de un arreglo usando np.sum\n",
        "\n",
        "media_arr5 = np.sum(arreglo5)/len(arreglo5)\n",
        "print(f'la media del arreglo del ejercio anterior calculada con sum da: {media_arr5}')"
      ],
      "metadata": {
        "colab": {
          "base_uri": "https://localhost:8080/"
        },
        "id": "YflEeEVmAGha",
        "outputId": "3c77f132-e4c0-4970-8c7b-95744df12a9e"
      },
      "execution_count": 32,
      "outputs": [
        {
          "output_type": "stream",
          "name": "stdout",
          "text": [
            "la media del arreglo del ejercio anterior calculada con sum da: 45.59\n"
          ]
        }
      ]
    },
    {
      "cell_type": "code",
      "source": [
        "#Ejercicio 7: Calcular la varianza de un arreglo usando np.sum y np.mean\n",
        "\n",
        "media = np.mean(arreglo5)\n",
        "desvCuad = (arreglo5 - media)**2\n",
        "var_arr5 = np.sum(desvCuad)/len(arreglo5)\n",
        "print(f'la varianza del arreglo calculada da: {var_arr5}')"
      ],
      "metadata": {
        "colab": {
          "base_uri": "https://localhost:8080/"
        },
        "id": "hX_pi8B9BJb4",
        "outputId": "545ad213-a629-4a0a-f009-dcf1965a9197"
      },
      "execution_count": 33,
      "outputs": [
        {
          "output_type": "stream",
          "name": "stdout",
          "text": [
            "la varianza del arreglo calculada da: 798.0819\n"
          ]
        }
      ]
    },
    {
      "cell_type": "code",
      "source": [
        "#Ejercicio 8: Crear un array de números aleatorios usando np.random.randn.\n",
        "\n",
        "array6 = np.random.randn(10)\n",
        "array6"
      ],
      "metadata": {
        "colab": {
          "base_uri": "https://localhost:8080/"
        },
        "id": "1MvqfVwADCFS",
        "outputId": "e0e820ce-e1cf-48f3-d179-1a9cfa28579b"
      },
      "execution_count": 39,
      "outputs": [
        {
          "output_type": "execute_result",
          "data": {
            "text/plain": [
              "array([-0.49052716, -0.14955447,  1.61350225, -0.81950666, -0.2103647 ,\n",
              "        0.98918573, -1.08199832,  0.53223469,  1.40678442,  0.35799492])"
            ]
          },
          "metadata": {},
          "execution_count": 39
        }
      ]
    },
    {
      "cell_type": "code",
      "source": [],
      "metadata": {
        "id": "Z3-9niiMKmvy"
      },
      "execution_count": null,
      "outputs": []
    }
  ]
}